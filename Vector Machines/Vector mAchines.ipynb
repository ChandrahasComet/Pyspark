{
 "cells": [
  {
   "cell_type": "code",
   "execution_count": 1,
   "id": "3e3ef725",
   "metadata": {},
   "outputs": [],
   "source": [
    "from pyspark.sql import SparkSession\n",
    "from pyspark.ml.feature import VectorAssembler\n",
    "from pyspark.ml.classification import LinearSVC\n",
    "from pyspark.ml.evaluation import MulticlassClassificationEvaluator"
   ]
  },
  {
   "cell_type": "code",
   "execution_count": 3,
   "id": "92bb7307",
   "metadata": {},
   "outputs": [],
   "source": [
    "spark = SparkSession.builder.appName(\"SVMExample\").getOrCreate()"
   ]
  },
  {
   "cell_type": "code",
   "execution_count": 6,
   "id": "de62c6fd",
   "metadata": {},
   "outputs": [],
   "source": [
    "titanic_data = spark.read.csv(\"titanic.csv\", header=True, inferSchema=True)\n",
    "\n",
    "# Select features and target column\n",
    "feature_columns = [\"Pclass\", \"Age\", \"SibSp\", \"Parch\", \"Fare\"]\n",
    "target_column = \"Survived\"\n",
    "\n",
    "data = titanic_data.select(feature_columns + [target_column]).na.drop()\n"
   ]
  },
  {
   "cell_type": "code",
   "execution_count": 7,
   "id": "50de3dfa",
   "metadata": {},
   "outputs": [],
   "source": [
    "assembler = VectorAssembler(inputCols=feature_columns, outputCol=\"features\")\n",
    "data = assembler.transform(data)"
   ]
  },
  {
   "cell_type": "code",
   "execution_count": 8,
   "id": "0e1f495e",
   "metadata": {},
   "outputs": [],
   "source": [
    "(train_data, test_data) = data.randomSplit([0.8, 0.2], seed=12345)"
   ]
  },
  {
   "cell_type": "markdown",
   "id": "9271085d",
   "metadata": {},
   "source": [
    "# SVM"
   ]
  },
  {
   "cell_type": "code",
   "execution_count": 9,
   "id": "28af9712",
   "metadata": {},
   "outputs": [],
   "source": [
    "svm = LinearSVC(maxIter=10, labelCol=target_column, featuresCol=\"features\")\n",
    "svm_model = svm.fit(train_data)"
   ]
  },
  {
   "cell_type": "code",
   "execution_count": 10,
   "id": "030adb53",
   "metadata": {},
   "outputs": [],
   "source": [
    "svm_predictions = svm_model.transform(test_data)"
   ]
  },
  {
   "cell_type": "code",
   "execution_count": 13,
   "id": "be055d9f",
   "metadata": {},
   "outputs": [
    {
     "name": "stdout",
     "output_type": "stream",
     "text": [
      "Accuracy: 0.6220\n",
      "Precision: 0.6354\n",
      "Recall: 0.6220\n",
      "F1-Score: 0.5879\n"
     ]
    }
   ],
   "source": [
    "evaluator = MulticlassClassificationEvaluator(labelCol=target_column, predictionCol=\"prediction\", metricName=\"accuracy\")\n",
    "accuracy = evaluator.evaluate(svm_predictions)\n",
    "print(f\"Accuracy: {accuracy:.4f}\")\n",
    "\n",
    "evaluator = MulticlassClassificationEvaluator(labelCol=target_column, predictionCol=\"prediction\", metricName=\"weightedPrecision\")\n",
    "precision = evaluator.evaluate(svm_predictions)\n",
    "print(f\"Precision: {precision:.4f}\")\n",
    "\n",
    "evaluator = MulticlassClassificationEvaluator(labelCol=target_column, predictionCol=\"prediction\", metricName=\"weightedRecall\")\n",
    "recall = evaluator.evaluate(svm_predictions)\n",
    "print(f\"Recall: {recall:.4f}\")\n",
    "\n",
    "evaluator = MulticlassClassificationEvaluator(labelCol=target_column, predictionCol=\"prediction\", metricName=\"f1\")\n",
    "f1 = evaluator.evaluate(svm_predictions)\n",
    "print(f\"F1-Score: {f1:.4f}\")"
   ]
  },
  {
   "cell_type": "markdown",
   "id": "e35c6c3c",
   "metadata": {},
   "source": [
    "# MLP"
   ]
  },
  {
   "cell_type": "code",
   "execution_count": 14,
   "id": "942ff16f",
   "metadata": {},
   "outputs": [],
   "source": [
    "from pyspark.ml.classification import MultilayerPerceptronClassifier"
   ]
  },
  {
   "cell_type": "code",
   "execution_count": 15,
   "id": "ce22e099",
   "metadata": {},
   "outputs": [],
   "source": [
    "layers = [len(feature_columns), 6, 4, 2]  # Define the architecture (input, hidden layers, output)\n",
    "mlp = MultilayerPerceptronClassifier(layers=layers, labelCol=target_column, featuresCol=\"features\")\n"
   ]
  },
  {
   "cell_type": "code",
   "execution_count": 16,
   "id": "395ed37d",
   "metadata": {},
   "outputs": [],
   "source": [
    "mlp_model = mlp.fit(train_data)"
   ]
  },
  {
   "cell_type": "code",
   "execution_count": 17,
   "id": "f0ddf95b",
   "metadata": {},
   "outputs": [],
   "source": [
    "mlp_predictions = mlp_model.transform(test_data)\n"
   ]
  },
  {
   "cell_type": "code",
   "execution_count": 18,
   "id": "7f3e4de6",
   "metadata": {},
   "outputs": [
    {
     "name": "stdout",
     "output_type": "stream",
     "text": [
      "Accuracy: 0.6299\n",
      "Precision: 0.6274\n",
      "Recall: 0.6299\n",
      "F1-Score: 0.6218\n"
     ]
    }
   ],
   "source": [
    "evaluator = MulticlassClassificationEvaluator(labelCol=target_column, predictionCol=\"prediction\", metricName=\"accuracy\")\n",
    "accuracy = evaluator.evaluate(mlp_predictions)\n",
    "print(f\"Accuracy: {accuracy:.4f}\")\n",
    "\n",
    "evaluator = MulticlassClassificationEvaluator(labelCol=target_column, predictionCol=\"prediction\", metricName=\"weightedPrecision\")\n",
    "precision = evaluator.evaluate(mlp_predictions)\n",
    "print(f\"Precision: {precision:.4f}\")\n",
    "\n",
    "evaluator = MulticlassClassificationEvaluator(labelCol=target_column, predictionCol=\"prediction\", metricName=\"weightedRecall\")\n",
    "recall = evaluator.evaluate(mlp_predictions)\n",
    "print(f\"Recall: {recall:.4f}\")\n",
    "\n",
    "evaluator = MulticlassClassificationEvaluator(labelCol=target_column, predictionCol=\"prediction\", metricName=\"f1\")\n",
    "f1 = evaluator.evaluate(mlp_predictions)\n",
    "print(f\"F1-Score: {f1:.4f}\")"
   ]
  },
  {
   "cell_type": "code",
   "execution_count": 22,
   "id": "809b15ad",
   "metadata": {},
   "outputs": [
    {
     "data": {
      "image/png": "[encoded data removed]",
      "text/plain": [
       "<Figure size 640x480 with 1 Axes>"
      ]
     },
     "metadata": {},
     "output_type": "display_data"
    }
   ],
   "source": [
    "import matplotlib.pyplot as plt\n",
    "\n",
    "# Results for SVM\n",
    "svm_accuracy = 0.6220\n",
    "svm_precision = 0.6354\n",
    "svm_recall = 0.6220\n",
    "svm_f1 = 0.5878\n",
    "\n",
    "# Results for MLP\n",
    "mlp_accuracy = 0.6299\n",
    "mlp_precision = 0.6274\n",
    "mlp_recall = 0.6299\n",
    "mlp_f1 = 0.6218\n",
    "\n",
    "# Metrics and models labels\n",
    "metrics = ['Accuracy', 'Precision', 'Recall', 'F1-Score']\n",
    "svm_metrics_values = [svm_accuracy, svm_precision, svm_recall, svm_f1]\n",
    "mlp_metrics_values = [mlp_accuracy, mlp_precision, mlp_recall, mlp_f1]\n",
    "\n",
    "# Create a bar chart for comparison\n",
    "width = 0.35\n",
    "x = range(len(metrics))\n",
    "plt.bar(x, svm_metrics_values, width, label='SVM')\n",
    "plt.bar([i + width for i in x], mlp_metrics_values, width, label='MLP')\n",
    "\n",
    "plt.xlabel('Metrics')\n",
    "plt.ylabel('Values')\n",
    "plt.title('Comparison of Metrics: SVM vs. MLP')\n",
    "plt.xticks([i + width/2 for i in x], metrics)\n",
    "plt.ylim(0.57,0.65)\n",
    "plt.legend()\n",
    "\n",
    "plt.show()\n"
   ]
  },
  {
   "cell_type": "code",
   "execution_count": null,
   "id": "c3b81816",
   "metadata": {},
   "outputs": [],
   "source": []
  }
 ],
 "metadata": {
  "kernelspec": {
   "display_name": "Python 3 (ipykernel)",
   "language": "python",
   "name": "python3"
  },
  "language_info": {
   "codemirror_mode": {
    "name": "ipython",
    "version": 3
   },
   "file_extension": ".py",
   "mimetype": "text/x-python",
   "name": "python",
   "nbconvert_exporter": "python",
   "pygments_lexer": "ipython3",
   "version": "3.10.7"
  }
 },
 "nbformat": 4,
 "nbformat_minor": 5
}
